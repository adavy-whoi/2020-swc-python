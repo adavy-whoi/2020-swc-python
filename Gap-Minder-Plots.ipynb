{
 "cells": [
  {
   "cell_type": "code",
   "execution_count": 4,
   "metadata": {},
   "outputs": [],
   "source": [
    "import pandas as pd\n",
    "import matplotlib.pyplot as plt\n",
    "from matplotlib import  cm\n",
    "import os"
   ]
  },
  {
   "cell_type": "markdown",
   "metadata": {},
   "source": [
    "## Let's load just the GDP data for the Americas "
   ]
  },
  {
   "cell_type": "markdown",
   "metadata": {},
   "source": [
    "### First set the path to the data directory for the gapminder data relative to your "
   ]
  },
  {
   "cell_type": "code",
   "execution_count": 5,
   "metadata": {},
   "outputs": [],
   "source": [
    "path_to_data = '../data/'"
   ]
  },
  {
   "cell_type": "code",
   "execution_count": 6,
   "metadata": {},
   "outputs": [],
   "source": [
    "#read in the csv to pands\n",
    "americas_df = pd.read_csv(os.path.join(path_to_data, 'gapminder_gdp_americas.csv'), index_col=1).drop('continent', axis=1)\n",
    "americas_df.columns = americas_df.columns.str.strip('gdpPercap_')\n"
   ]
  },
  {
   "cell_type": "markdown",
   "metadata": {},
   "source": [
    "## Splitting out the top and bottom 10 countries by average GDP over time. "
   ]
  },
  {
   "cell_type": "code",
   "execution_count": 7,
   "metadata": {},
   "outputs": [],
   "source": [
    "top_10 = americas_df.T.mean().sort_values(ascending=False)[0:10].index #find the top ten countries\n",
    "am_t10_df = americas_df.loc[top_10] #create a new df with just those countries "
   ]
  },
  {
   "cell_type": "code",
   "execution_count": 8,
   "metadata": {},
   "outputs": [],
   "source": [
    "bottom_10 = americas_df.T.mean().sort_values(ascending=True)[0:10].index #find the bottom ten countries\n",
    "am_b10_df = americas_df.loc[bottom_10] #create a new df with just those countries "
   ]
  },
  {
   "cell_type": "markdown",
   "metadata": {},
   "source": [
    "## A simple line plot "
   ]
  },
  {
   "cell_type": "code",
   "execution_count": 9,
   "metadata": {},
   "outputs": [
    {
     "ename": "NameError",
     "evalue": "name 'axs' is not defined",
     "output_type": "error",
     "traceback": [
      "\u001b[0;31m---------------------------------------------------------------------------\u001b[0m",
      "\u001b[0;31mNameError\u001b[0m                                 Traceback (most recent call last)",
      "\u001b[0;32m<ipython-input-9-a6e38c547472>\u001b[0m in \u001b[0;36m<module>\u001b[0;34m\u001b[0m\n\u001b[1;32m      1\u001b[0m \u001b[0;34m\u001b[0m\u001b[0m\n\u001b[0;32m----> 2\u001b[0;31m \u001b[0mam_t10_df\u001b[0m\u001b[0;34m.\u001b[0m\u001b[0mT\u001b[0m\u001b[0;34m.\u001b[0m\u001b[0mplot\u001b[0m\u001b[0;34m(\u001b[0m\u001b[0mkind\u001b[0m\u001b[0;34m=\u001b[0m\u001b[0;34m'line'\u001b[0m\u001b[0;34m,\u001b[0m \u001b[0max\u001b[0m \u001b[0;34m=\u001b[0m \u001b[0maxs\u001b[0m\u001b[0;34m[\u001b[0m\u001b[0;36m0\u001b[0m\u001b[0;34m]\u001b[0m\u001b[0;34m)\u001b[0m\u001b[0;34m\u001b[0m\u001b[0;34m\u001b[0m\u001b[0m\n\u001b[0m",
      "\u001b[0;31mNameError\u001b[0m: name 'axs' is not defined"
     ]
    }
   ],
   "source": [
    "\n",
    "am_t10_df.T.plot(kind='line', ax = axs[0])\n"
   ]
  },
  {
   "cell_type": "markdown",
   "metadata": {},
   "source": [
    "## Making a slightly more interesting plot with subplots"
   ]
  },
  {
   "cell_type": "code",
   "execution_count": null,
   "metadata": {},
   "outputs": [],
   "source": [
    "fig, axs = plt.subplots(2)\n",
    "fig.set_size_inches (6,6)\n",
    "am_t10_df.T.plot(kind='line', ax = axs[0], cmap='Reds_r' )\n",
    "axs[0].legend(loc=[1.05,0])\n",
    "am_b10_df.T.plot(kind='line', ax = axs[1], cmap='Blues_r' )\n",
    "axs[1].legend(loc=[1.05,0])\n"
   ]
  },
  {
   "cell_type": "markdown",
   "metadata": {},
   "source": [
    "## Making a bar plot! Note: the code is largely the same"
   ]
  },
  {
   "cell_type": "code",
   "execution_count": null,
   "metadata": {},
   "outputs": [],
   "source": [
    "fig, ax = plt.subplots()\n",
    "fig.set_size_inches (9,3)\n",
    "am_t10_df.plot(kind='bar', ax = ax, cmap='BuPu' )\n",
    "ax.legend(loc=[1.05,0])"
   ]
  },
  {
   "cell_type": "markdown",
   "metadata": {},
   "source": [
    "# All the gap minder data! "
   ]
  },
  {
   "cell_type": "markdown",
   "metadata": {},
   "source": [
    "## Read in the csv file containing all the data "
   ]
  },
  {
   "cell_type": "code",
   "execution_count": null,
   "metadata": {},
   "outputs": [],
   "source": [
    "all_data = pd.read_csv(os.path.join(path_to_data,'gapminder_all.csv'), index_col=['continent','country'])\n",
    "all_data.head()\n"
   ]
  },
  {
   "cell_type": "markdown",
   "metadata": {},
   "source": [
    "### Column names make it a bit challenging. Here is a peice of code that splits the column headers and creates a multi-indexed data frame"
   ]
  },
  {
   "cell_type": "code",
   "execution_count": null,
   "metadata": {},
   "outputs": [],
   "source": [
    "all_data_split = all_data.copy()\n",
    "metric = all_data.columns.str.split('_').str[0]\n",
    "years = all_data.columns.str.split('_').str[1].astype(int)\n",
    "\n",
    "all_data_split.columns = pd.MultiIndex.from_arrays([metric, years])\n",
    "all_data_split=all_data_split.reset_index().set_index('country')"
   ]
  },
  {
   "cell_type": "markdown",
   "metadata": {},
   "source": [
    "## Create a plot of Life expectancy vs GDP; colored by continent and sized by total population\n",
    "\n",
    "At the top of the cell I define some variables (`year`, `scale`, `colormap`). Try changing these variables to modify the plot! "
   ]
  },
  {
   "cell_type": "code",
   "execution_count": null,
   "metadata": {},
   "outputs": [],
   "source": [
    "year = 2007 #choose from {1952, 1957, 1962, 1967, 1972, 1977, 1982, 1987, 1992, 1997, 2002, 2007}\n",
    "scale = 10**6 #scale the circle size\n",
    "colormap = cm.Set1 #change this; use tab to check out some options\n",
    "\n",
    "\n",
    "fig, ax = plt.subplots() #initalize a figure\n",
    "fig.set_size_inches(8,8)\n",
    "cdict ={} #define the colormap\n",
    "continents = set(all_data_split['continent'])\n",
    "for cont, color in zip(continents, colormap.colors[0:len(continents)]):\n",
    "    cdict[cont]=color\n",
    "\n",
    "ax.scatter(x=all_data_split['gdpPercap',year], y=all_data_split['lifeExp',year], \n",
    "           c=all_data_split['continent'].apply(lambda x: cdict[x]), s=all_data_split['pop',year]/scale, alpha=0.8);\n",
    "markers = [plt.Line2D([0,0],[0,0],color=color, marker='o', linestyle='') for color in cdict.values()];\n",
    "plt.legend(markers, cdict.keys(), numpoints=1);\n",
    "ax.set_xlabel('GDP per Capita', weight='bold');\n",
    "ax.set_ylabel('Life Expectancy', weight = 'bold');"
   ]
  },
  {
   "cell_type": "code",
   "execution_count": null,
   "metadata": {},
   "outputs": [],
   "source": []
  }
 ],
 "metadata": {
  "kernelspec": {
   "display_name": "Python 3",
   "language": "python",
   "name": "python3"
  },
  "language_info": {
   "codemirror_mode": {
    "name": "ipython",
    "version": 3
   },
   "file_extension": ".py",
   "mimetype": "text/x-python",
   "name": "python",
   "nbconvert_exporter": "python",
   "pygments_lexer": "ipython3",
   "version": "3.6.8"
  }
 },
 "nbformat": 4,
 "nbformat_minor": 2
}
